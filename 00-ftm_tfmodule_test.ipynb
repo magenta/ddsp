{
 "cells": [
  {
   "cell_type": "code",
   "execution_count": 1,
   "metadata": {},
   "outputs": [],
   "source": [
    "import tensorflow.compat.v2 as tf\n",
    "import numpy as np\n",
    "import math"
   ]
  },
  {
   "cell_type": "code",
   "execution_count": 2,
   "metadata": {},
   "outputs": [],
   "source": [
    "def tf_float32(x):\n",
    "    \"\"\"Ensure array/tensor is a float32 tf.Tensor.\"\"\"\n",
    "    if isinstance(x, tf.Tensor):\n",
    "        return tf.cast(x, dtype=tf.float32)  # This is a no-op if x is float32.\n",
    "    else:\n",
    "        return tf.convert_to_tensor(x, tf.float32)\n"
   ]
  },
  {
   "cell_type": "code",
   "execution_count": 3,
   "metadata": {},
   "outputs": [],
   "source": [
    "class FTM():\n",
    "    \"\"\"Synthesize percussive sounds based on physical parameters.\"\"\"\n",
    "\n",
    "    def __init__(self,\n",
    "               n_samples=64000,\n",
    "               sample_rate=16000,\n",
    "               tau = 0.3,\n",
    "               omega = 400,\n",
    "               p = 0.1,\n",
    "               D = 0.01,\n",
    "               alpha=0.5,\n",
    "               name='ftm'):\n",
    "        #super().__init__(name=name) #use super to call processor's init class\n",
    "        self.n_samples = n_samples\n",
    "        self.sample_rate = sample_rate\n",
    "        self.tau = tau\n",
    "        self.omega = omega\n",
    "        self.p = p\n",
    "        self.D = D\n",
    "        self.alpha = alpha\n",
    "\n",
    "    ## helper function \n",
    "    def approxnorm(self,l,mu,s,tau): #take tensor, float, float, int\n",
    "    # this is a gaussian distribution\n",
    "        h = l/tau #tensor\n",
    "        \n",
    "        i = tf_float32(tf.range(0,tau+1,1))\n",
    "        x = 1/(s * tf.math.sqrt(2*np.pi) * tf.math.exp(-0.5 * (i * h - mu)**2/s**2))\n",
    "\n",
    "        return tf_float32(x) #return list\n",
    "       \n",
    "\n",
    "    ## calculate excitation function\n",
    "    #calculate integral and approximate excitation function with gaussian distribution\n",
    "    def get_gaus_f(self,m,l,tau,r): #takes int, tensor, int, float\n",
    "        #trapezoid rule to integrate f(x)sin(mpix) from 0 to l\n",
    "        #(f(a)+f(b))*(b-a)/2\n",
    "        #integral = 0\n",
    "        num_m = m\n",
    "        m = tf.reshape(tf_float32(tf.range(1,m+1,1)),[1,m])\n",
    "        x = self.approxnorm(l,l*r,0.1,tau) #l is a tensor here\n",
    "        h = l/tau\n",
    "\n",
    "        t = tf.reshape(tf_float32(tf.range(0,tau,1)),[1,tau]) #to replace the i\n",
    "        # m by tau\n",
    "        integral = (tf_float32(x[:-1])*tf.sin(tf.linalg.matrix_transpose(m)*np.pi*t*h/l)+tf_float32(x[1:])*tf.sin(tf.linalg.matrix_transpose(m)*np.pi*(t+1)*h/l))*h/2\n",
    "        integral_sum = tf.reduce_sum(integral,axis=1)*2/l\n",
    "        #for i in range(tau):\n",
    "          #x(i+2)\n",
    "          #print(x.shape,x[0],x[0,1])\n",
    "        #    integral = integral + (x[i] * np.sin(m * np.pi * i * h/l) + x[i+1] * np.sin(m * np.pi * (i + 1) * h/l))*h/2\n",
    "        #integral = integral*2/l\n",
    "        return tf.reshape(integral_sum,[1,num_m]) #return tensor\n",
    "\n",
    "    ## calculate omega, sigma, K\n",
    "    def getsigma(self,m1,m2,alpha,p,s11):  \n",
    "        m1 = tf.reshape(tf_float32(tf.range(1,m1+1,1)),[1,m1])\n",
    "        m2 = tf.reshape(tf_float32(tf.range(1,m2+1,1)),[1,m2])\n",
    "        beta = alpha + 1/alpha\n",
    "\n",
    "        sigma = s11 * (1 + p * ((tf.linalg.matrix_transpose(m1)*m1 * alpha + tf.linalg.matrix_transpose(m2)*m2/alpha) - beta))\n",
    "        return sigma\n",
    "\n",
    "    def getomega(self,m1,m2,alpha,p,D,w11,s11):\n",
    "        m1 = tf.reshape(tf_float32(tf.range(1,m1+1,1)),[1,m1])\n",
    "        m2 = tf.reshape(tf_float32(tf.range(1,m2+1,1)),[1,m2])\n",
    "\n",
    "        interm = tf.linalg.matrix_transpose(m1)*m1 * alpha + tf.linalg.matrix_transpose(m2)*m2/alpha\n",
    "        beta = alpha + 1/alpha\n",
    "\n",
    "        omega_sq = D**2 * w11**2 * interm*interm + interm * (s11*s11 * (1 - p * beta)**2/beta + w11**2 * (1 - D**2 * beta**2)/beta) - s11*s11 * (1 - p * beta)**2\n",
    "        omega = tf.math.sqrt(omega_sq)\n",
    "        return tf.where(tf.math.is_nan(omega),tf.zeros_like(omega),omega) #check if there's zero in the omega matrix\n",
    "\n",
    "    #k is dependent on striking position as well\n",
    "    def get_gaus_k(self,m1,m2,omega,f1,f2, x1,x2,l,alpha): #take int, int, tensor, tensor, tensor, tensor, tensor, tensor, tensor\n",
    "        #f1,f2 are both tensors\n",
    "        m1 = tf.reshape(tf_float32(tf.range(1,m1+1,1)),[1,m1])\n",
    "        m2 = tf.reshape(tf_float32(tf.range(1,m2+1,1)),[1,m2])\n",
    "\n",
    "        l2 = l * alpha\n",
    "        if float(x1) > float(l):\n",
    "            x1 = 0\n",
    "        if float(x2) > float(l2):\n",
    "            x2 = 0\n",
    "          #f should be of m length, thus m by m pointwise multiply, finally pointwise divide\n",
    "        k = (tf.linalg.matrix_transpose(f1) * f2) * (tf.linalg.matrix_transpose(tf.sin(m1 * np.pi * x1/l)) * tf.sin(m2 * np.pi * x2/l2))/ omega #assuming x1,x2 at center of the surface\n",
    "        #k is m by m\n",
    "        #k = np.round(k,10)\n",
    "        return k #return tensor\n",
    "\n",
    "    ## calculate the ending sound \n",
    "    def getsounds_imp_gaus(self,m1,m2,r1,r2,w11,tau11,p,D,alpha,sr):\n",
    "        \"\"\"\n",
    "        Calculate sound of a FTM 2D rectangular drum of shape {w,tau,p,D,alpha}\n",
    "        excitation function:(Laplace) spatially gaussian, temporally delta\n",
    "        modes: m1, m2 along each direction\n",
    "        excitation position: r1, r2 \n",
    "        \"\"\"\n",
    "        #w11,tau11,p,D,alpha = theta\n",
    "        l = tf_float32(np.pi) #does this need to be tensor too?\n",
    "        l2 = l*tf_float32(alpha)\n",
    "        w11 = tf_float32(w11)\n",
    "        s11 = -1/tf_float32(tau11)\n",
    "        p = tf_float32(p)\n",
    "        D = tf_float32(D)\n",
    "        alpha = tf_float32(alpha)\n",
    "\n",
    "        #sigma=tf.zeros([m1,m2])\n",
    "        #omega=tf.zeros([m1,m2])\n",
    "        #k=tf.zeros([m1,m2])\n",
    "\n",
    "        x1 = l*r1 #tensor times float is a tensor?\n",
    "        x2 = l2*r2\n",
    " \n",
    "        sigma= self.getsigma(m1,m2,alpha,p,s11)\n",
    "        omega = self.getomega(m1,m2,alpha,p,D,w11,s11)\n",
    "        k = self.get_gaus_k(m1,m2,omega,self.get_gaus_f(m1,1,300,r1),self.get_gaus_f(m2,alpha,300,r2),x1,x2,l,alpha)\n",
    "        dur = 2**15\n",
    "        #allocate a big tensor\n",
    "        t = tf.reshape(tf_float32(tf.range(0,dur,1)),[1,1,dur])\n",
    "        y = tf.reduce_sum(tf.reduce_sum(tf.reshape(k,[m1,m2,1]) * tf.math.exp(tf.reshape(sigma,[m1,m2,1]) * t/sr) * tf.sin(tf.reshape(omega,[m1,m2,1]) * t/sr),axis=0),axis=0)\n",
    "        #y = [] #should this be a tensor or it can be a list of tensors\n",
    "        #for t in range(dur):\n",
    "        #    y.append(tf.reduce_sum(tf.reduce_sum(k * tf.math.exp(sigma * t/sr) * tf.sin(omega * t/sr))))\n",
    "\n",
    "\n",
    "        y = y/max(y)\n",
    "\n",
    "\n",
    "        return tf_float32(y)\n"
   ]
  },
  {
   "cell_type": "markdown",
   "metadata": {},
   "source": [
    "test subfunctions\n",
    "\n",
    "getsigma √\n",
    "\n",
    "approxnorm\n",
    "\n",
    "get_gauss_f\n",
    "\n",
    "get_omega\n",
    "\n",
    "get_gauss_k\n"
   ]
  },
  {
   "cell_type": "code",
   "execution_count": 4,
   "metadata": {},
   "outputs": [
    {
     "name": "stdout",
     "output_type": "stream",
     "text": [
      "[<tf.Tensor: shape=(), dtype=float32, numpy=789.78784>, <tf.Tensor: shape=(), dtype=float32, numpy=-9033.355>, <tf.Tensor: shape=(), dtype=float32, numpy=11509.004>]\n",
      "[<tf.Tensor: shape=(), dtype=float32, numpy=-108.988434>, <tf.Tensor: shape=(), dtype=float32, numpy=1239.0825>, <tf.Tensor: shape=(), dtype=float32, numpy=424.8756>, <tf.Tensor: shape=(), dtype=float32, numpy=296.54974>, <tf.Tensor: shape=(), dtype=float32, numpy=-598.71045>]\n",
      "tf.Tensor(356701.8, shape=(), dtype=float32)\n",
      "[<tf.Tensor: shape=(), dtype=float32, numpy=45073772.0>, <tf.Tensor: shape=(), dtype=float32, numpy=1281129.5>, <tf.Tensor: shape=(), dtype=float32, numpy=100014.84>, <tf.Tensor: shape=(), dtype=float32, numpy=-1770456.4>, <tf.Tensor: shape=(), dtype=float32, numpy=-619027.5>]\n",
      "[<tf.Tensor: shape=(), dtype=float32, numpy=-3424.503>, <tf.Tensor: shape=(), dtype=float32, numpy=10841.517>, <tf.Tensor: shape=(), dtype=float32, numpy=677.55566>, <tf.Tensor: shape=(), dtype=float32, numpy=-20.454315>, <tf.Tensor: shape=(), dtype=float32, numpy=112.451065>]\n"
     ]
    }
   ],
   "source": [
    "ftm = FTM()\n",
    "alpha = tf.Variable(tf.random.uniform(shape=()))\n",
    "p = tf.Variable(tf.random.uniform(shape=()))\n",
    "D = tf.Variable(tf.random.uniform(shape=()))\n",
    "w11 = tf.Variable(tf.random.uniform(shape=()))\n",
    "tau11 = tf.Variable(tf.random.uniform(shape=()))\n",
    "#s11 = tf.Variable(-1/tf.random.uniform(shape=()))\n",
    "l = tf_float32(np.pi)\n",
    "with tf.GradientTape(persistent=True) as tape:\n",
    "    s11 = -1/tau11\n",
    "    sigma= ftm.getsigma(10,10,alpha,p,s11)\n",
    "    omega = ftm.getomega(10,10,alpha,p,D,w11,s11)\n",
    "    norm = ftm.approxnorm(l,l*0.5,0.1,300)\n",
    "    f = ftm.get_gaus_f(10,alpha,300,0.5)\n",
    "    k = ftm.get_gaus_k(10,10,omega,f,f, l*0.5,l*0.5,l,alpha)\n",
    "    y = ftm.getsounds_imp_gaus(10,10,0.5,0.5,w11,tau11,p,D,alpha,16000)\n",
    "print(tape.gradient(sigma,[alpha,p,tau11]))\n",
    "print(tape.gradient(omega,[alpha,p,D,w11,tau11]))\n",
    "print(tape.gradient(f,alpha))\n",
    "print(tape.gradient(k,[alpha,p,D,w11,tau11]))\n",
    "print(tape.gradient(y,[w11,tau11,p,D,alpha]))"
   ]
  },
  {
   "cell_type": "markdown",
   "metadata": {},
   "source": [
    "## test sounds"
   ]
  },
  {
   "cell_type": "code",
   "execution_count": 5,
   "metadata": {},
   "outputs": [],
   "source": [
    "ftm = FTM()"
   ]
  },
  {
   "cell_type": "code",
   "execution_count": 6,
   "metadata": {},
   "outputs": [],
   "source": [
    "theta = [800,0.3,0.1,0.01,0.5]\n",
    "y = ftm.getsounds_imp_gaus(m1=10,m2=10,r1=0.3,r2=0.3,w11=800,tau11=0.3,p=0.1,D=0.01,alpha=0.5,sr=16000)"
   ]
  },
  {
   "cell_type": "code",
   "execution_count": 7,
   "metadata": {},
   "outputs": [],
   "source": [
    "import IPython.display as ipd"
   ]
  },
  {
   "cell_type": "code",
   "execution_count": 8,
   "metadata": {},
   "outputs": [
    {
     "data": {
      "text/html": [
       "\n",
       "                <audio controls=\"controls\" >\n",
       "                    <source src=\"data:audio/wav;base64,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\" type=\"audio/wav\" />\n",
       "                    Your browser does not support the audio element.\n",
       "                </audio>\n",
       "              "
      ],
      "text/plain": [
       "<IPython.lib.display.Audio object>"
      ]
     },
     "execution_count": 8,
     "metadata": {},
     "output_type": "execute_result"
    }
   ],
   "source": [
    "ipd.Audio(y,rate=16000)"
   ]
  },
  {
   "cell_type": "code",
   "execution_count": 257,
   "metadata": {},
   "outputs": [
    {
     "data": {
      "text/plain": [
       "<tf.Tensor: id=8539401, shape=(32768,), dtype=float32, numpy=\n",
       "array([ 0.0000000e+00,  2.9536262e-03,  5.2662306e-03, ...,\n",
       "       -2.3940327e-05, -2.4817497e-05, -2.5669373e-05], dtype=float32)>"
      ]
     },
     "execution_count": 257,
     "metadata": {},
     "output_type": "execute_result"
    }
   ],
   "source": [
    "y"
   ]
  },
  {
   "cell_type": "markdown",
   "metadata": {},
   "source": [
    "## test gradient descent\n",
    "\n",
    "objective: minimize loss in theta, Loss(theta) = || S(target) - S(G(theta)) ||_2\n",
    "    \n",
    "     find theta such that is closest to target sound\n",
    "\n",
    "\n",
    "GradientTape, tf.gradients"
   ]
  },
  {
   "cell_type": "code",
   "execution_count": 4,
   "metadata": {},
   "outputs": [],
   "source": [
    "import IPython.display as ipd\n",
    "import numpy as np\n",
    "\n",
    "from kymatio.tensorflow import Scattering1D\n"
   ]
  },
  {
   "cell_type": "markdown",
   "metadata": {},
   "source": [
    "use scattering transform as tf representation - need to use pytorch??\n",
    "but maybe it's not possible bc the intermediate variables are not torch?"
   ]
  },
  {
   "cell_type": "code",
   "execution_count": 5,
   "metadata": {},
   "outputs": [],
   "source": [
    "scattering = Scattering1D(J=8, shape=(2**15,), Q=1)\n",
    "#make target sound as a tensor\n",
    "theta_true = [800,0.3,0.1,0.01,0.5]\n",
    "theta_est = np.random.random(5)\n",
    "ftm = FTM()\n",
    "y_target= ftm.getsounds_imp_gaus(m1=10,m2=10,r1=0.3,r2=0.3,\n",
    "                                 w11=theta_true[0],\n",
    "                                 tau11=theta_true[1],\n",
    "                                 p=theta_true[2],\n",
    "                                 D=theta_true[3],\n",
    "                                 alpha=theta_true[4],sr=16000)\n",
    "\n",
    "\n",
    "y_est= ftm.getsounds_imp_gaus(m1=10,m2=10,r1=0.3,r2=0.3,\n",
    "                              w11=theta_est[0],\n",
    "                                 tau11=theta_est[1],\n",
    "                                 p=theta_est[2],\n",
    "                                 D=theta_est[3],\n",
    "                                 alpha=theta_est[4],sr=16000) \n",
    "\n",
    "#y_target = torch.Tensor(y_target.numpy())"
   ]
  },
  {
   "cell_type": "code",
   "execution_count": 8,
   "metadata": {},
   "outputs": [
    {
     "name": "stdout",
     "output_type": "stream",
     "text": [
      "tf.Tensor(7.93616, shape=(), dtype=float32)\n"
     ]
    }
   ],
   "source": [
    "w11_est = tf.Variable(tf.random.uniform(shape=()))\n",
    "tau11_est = tf.Variable(tf.random.uniform(shape=()))\n",
    "p_est = tf.Variable(tf.random.uniform(shape=()))\n",
    "D_est = tf.Variable(tf.random.uniform(shape=()))\n",
    "alpha_est = tf.Variable(tf.random.uniform(shape=()))\n",
    "\n",
    "sc_target = tf_float32(scattering(y_target))\n",
    "#print(sc_target)\n",
    "with tf.GradientTape(persistent=True) as tape:\n",
    "    y_est= ftm.getsounds_imp_gaus(m1=tf.constant(10,dtype=tf.int32),m2=tf.constant(10,dtype=tf.int32),\n",
    "                                              r1=tf.constant(0.3,dtype=tf.float32),\n",
    "                                              r2=tf.constant(0.3,dtype=tf.float32),\n",
    "                                              w11=w11_est,\n",
    "                                              tau11=tau11_est,\n",
    "                                              p=p_est,\n",
    "                                              D=D_est,\n",
    "                                              alpha=alpha_est,\n",
    "                                              sr=16000)\n",
    "\n",
    "    sc_est = tf_float32(scattering(y_est))\n",
    "\n",
    "    loss = tf.norm(sc_target - sc_est)\n",
    "    print(tf.norm(sc_target-sc_est))"
   ]
  },
  {
   "cell_type": "code",
   "execution_count": 10,
   "metadata": {},
   "outputs": [
    {
     "name": "stdout",
     "output_type": "stream",
     "text": [
      "[<tf.Tensor: shape=(), dtype=float32, numpy=-0.76357424>, <tf.Tensor: shape=(), dtype=float32, numpy=3.9844573>, <tf.Tensor: shape=(), dtype=float32, numpy=0.43535995>, <tf.Tensor: shape=(), dtype=float32, numpy=-0.0053822994>, <tf.Tensor: shape=(), dtype=float32, numpy=-1.774162>]\n"
     ]
    }
   ],
   "source": [
    "grad = tape.gradient(loss, [w11_est,tau11_est,p_est,D_est,alpha_est])\n",
    "#print(tape.gradient(sc_est,[w11_est,tau11_est,p_est,D_est,alpha_est]))\n",
    "print(grad)"
   ]
  },
  {
   "cell_type": "code",
   "execution_count": null,
   "metadata": {},
   "outputs": [],
   "source": []
  },
  {
   "cell_type": "markdown",
   "metadata": {},
   "source": [
    "use spectrogram as tf representation - use tensorflow"
   ]
  },
  {
   "cell_type": "code",
   "execution_count": 10,
   "metadata": {},
   "outputs": [],
   "source": [
    "#obtain spectrogram of target sound\n",
    "theta_true = [800,0.3,0.1,0.01,0.5]\n",
    "w11,tau11,p,D,alpha=theta_true\n",
    "ftm = FTM()\n",
    "y_target= ftm.getsounds_imp_gaus(m1=10,m2=10,r1=0.3,r2=0.3,w11=w11,tau11=tau11,p=p,D=D,alpha=alpha,sr=16000)\n",
    "#print(y_target)"
   ]
  },
  {
   "cell_type": "code",
   "execution_count": 11,
   "metadata": {},
   "outputs": [],
   "source": [
    "s_target = tf.signal.stft(\n",
    "    y_target, frame_length=512, frame_step=256, fft_length=None,\n",
    "    window_fn=tf.signal.hann_window, pad_end=False, name=None\n",
    ")\n",
    "#log-scaled spectrogram\n",
    "s_target = 10*np.log10(np.abs(s_target))"
   ]
  },
  {
   "cell_type": "code",
   "execution_count": 12,
   "metadata": {
    "scrolled": true
   },
   "outputs": [
    {
     "name": "stdout",
     "output_type": "stream",
     "text": [
      "tf.Tensor(3290.9988, shape=(), dtype=float32)\n"
     ]
    }
   ],
   "source": [
    "w11_est = tf.Variable(tf.random.uniform(shape=()))\n",
    "tau11_est = tf.Variable(tf.random.uniform(shape=()))\n",
    "p_est = tf.Variable(tf.random.uniform(shape=()))\n",
    "D_est = tf.Variable(tf.random.uniform(shape=()))\n",
    "alpha_est = tf.Variable(tf.random.uniform(shape=()))\n",
    "\n",
    "\n",
    "with tf.GradientTape(persistent=True) as tape:\n",
    "    y_est= ftm.getsounds_imp_gaus(m1=tf.constant(10,dtype=tf.int32),m2=tf.constant(10,dtype=tf.int32),\n",
    "                                              r1=tf.constant(0.3,dtype=tf.float32),\n",
    "                                              r2=tf.constant(0.3,dtype=tf.float32),\n",
    "                                              w11=w11_est,\n",
    "                                              tau11=tau11_est,\n",
    "                                              p=p_est,\n",
    "                                              D=D_est,\n",
    "                                              alpha=alpha_est,\n",
    "                                              sr=16000)\n",
    "\n",
    "    #y_est= ftm.getsounds_imp_gaus(m1=10,m2=10,r1=0.3,r2=0.3,theta=list(theta_est.numpy()),sr=16000) \n",
    "    stft = tf.math.abs(tf.signal.stft(y_est, frame_length=512, \n",
    "                                                             frame_step=256, fft_length=None,\n",
    "                                                             window_fn=tf.signal.hann_window, \n",
    "                                                             pad_end=False, name=None))\n",
    "    \n",
    "    s_est = 10*tf.math.log(stft+1e-5)/tf.math.log(tf.constant(10,dtype=tf.float32))\n",
    "    loss = tf.norm(s_target - s_est)\n",
    "    print(tf.norm(s_target-s_est))"
   ]
  },
  {
   "cell_type": "code",
   "execution_count": 13,
   "metadata": {
    "scrolled": true
   },
   "outputs": [
    {
     "name": "stderr",
     "output_type": "stream",
     "text": [
      "WARNING: Logging before flag parsing goes to stderr.\n",
      "W1019 19:39:41.259083 4618767808 deprecation.py:323] From /Users/lilyh/anaconda3/lib/python3.6/site-packages/tensorflow_core/python/ops/array_grad.py:502: _EagerTensorBase.cpu (from tensorflow.python.framework.ops) is deprecated and will be removed in a future version.\n",
      "Instructions for updating:\n",
      "Use tf.identity instead.\n"
     ]
    },
    {
     "name": "stdout",
     "output_type": "stream",
     "text": [
      "[<tf.Tensor: id=659465, shape=(), dtype=float32, numpy=-3.3862705>, <tf.Tensor: id=659463, shape=(), dtype=float32, numpy=749.036>, <tf.Tensor: id=659516, shape=(), dtype=float32, numpy=-18.56018>, <tf.Tensor: id=659517, shape=(), dtype=float32, numpy=-0.08551645>, <tf.Tensor: id=659588, shape=(), dtype=float32, numpy=15.550793>]\n"
     ]
    }
   ],
   "source": [
    "grad = tape.gradient(loss, [w11_est,tau11_est,p_est,D_est,alpha_est])\n",
    "#print(tape.gradient(y_est,[w11_est,tau11_est,p_est,D_est,alpha_est]))\n",
    "print(grad)"
   ]
  },
  {
   "cell_type": "code",
   "execution_count": null,
   "metadata": {},
   "outputs": [],
   "source": []
  },
  {
   "cell_type": "code",
   "execution_count": null,
   "metadata": {},
   "outputs": [],
   "source": []
  },
  {
   "cell_type": "code",
   "execution_count": null,
   "metadata": {},
   "outputs": [],
   "source": []
  }
 ],
 "metadata": {
  "kernelspec": {
   "display_name": "Python 3",
   "language": "python",
   "name": "python3"
  },
  "language_info": {
   "codemirror_mode": {
    "name": "ipython",
    "version": 3
   },
   "file_extension": ".py",
   "mimetype": "text/x-python",
   "name": "python",
   "nbconvert_exporter": "python",
   "pygments_lexer": "ipython3",
   "version": "3.7.9"
  }
 },
 "nbformat": 4,
 "nbformat_minor": 2
}
